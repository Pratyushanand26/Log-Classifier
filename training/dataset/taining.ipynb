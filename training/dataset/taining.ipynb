{
 "cells": [
  {
   "cell_type": "code",
   "execution_count": null,
   "id": "c4d2a820",
   "metadata": {},
   "outputs": [],
   "source": [
    "import pandas as pd\n",
    "\n",
    "df = pd.read_csv(\"dataset/synthetic_logs.csv\")"
   ]
  },
  {
   "cell_type": "markdown",
   "id": "3d44e98e",
   "metadata": {},
   "source": [
    "from sklearn.cluster import DBSCAN\n",
    "from sentence_transformers import SentenceTransformer"
   ]
  },
  {
   "cell_type": "code",
   "execution_count": null,
   "id": "00bd59ef",
   "metadata": {},
   "outputs": [],
   "source": [
    "model = SentenceTransformer('all-MiniLM-L6-v2') \n",
    "embeddings = model.encode(df['log_message'].tolist())"
   ]
  },
  {
   "cell_type": "code",
   "execution_count": null,
   "id": "4429bd73",
   "metadata": {},
   "outputs": [],
   "source": [
    "clustering = DBSCAN(eps=0.2, min_samples=1, metric='cosine').fit(embeddings)\n",
    "df['cluster'] = clustering.labels_"
   ]
  },
  {
   "cell_type": "code",
   "execution_count": null,
   "id": "1bed86d5",
   "metadata": {},
   "outputs": [],
   "source": [
    "import re\n",
    "def classify_with_regex(log_message):\n",
    "    regex_patterns = {\n",
    "        r\"User User\\d+ logged (in|out).\": \"User Action\",\n",
    "        r\"Backup (started|ended) at .*\": \"System Notification\",\n",
    "        r\"Backup completed successfully.\": \"System Notification\",\n",
    "        r\"System updated to version .*\": \"System Notification\",\n",
    "        r\"File .* uploaded successfully by user .*\": \"System Notification\",\n",
    "        r\"Disk cleanup completed successfully.\": \"System Notification\",\n",
    "        r\"System reboot initiated by user .*\": \"System Notification\",\n",
    "        r\"Account with ID .* created by .*\": \"User Action\"\n",
    "    }\n",
    "    for pattern, label in regex_patterns.items():\n",
    "        if re.search(pattern, log_message):\n",
    "            return label\n",
    "    return None"
   ]
  },
  {
   "cell_type": "markdown",
   "id": "3ad92345",
   "metadata": {},
   "source": [
    "df['regex_label'] = df['log_message'].apply(lambda x: classify_with_regex(x))\n"
   ]
  },
  {
   "cell_type": "code",
   "execution_count": null,
   "id": "a576f84d",
   "metadata": {},
   "outputs": [],
   "source": []
  },
  {
   "cell_type": "code",
   "execution_count": null,
   "id": "c01f2f37",
   "metadata": {},
   "outputs": [],
   "source": [
    "df_non_regex = df[df['regex_label'].isnull()].copy()\n",
    "df_non_regex.shape"
   ]
  },
  {
   "cell_type": "code",
   "execution_count": null,
   "id": "8285b9c2",
   "metadata": {},
   "outputs": [],
   "source": [
    "df_legacy = df_non_regex[df_non_regex.source==\"LegacyCRM\"]"
   ]
  },
  {
   "cell_type": "markdown",
   "id": "56074ecc",
   "metadata": {},
   "source": [
    "df_non_legacy = df_non_regex[df_non_regex.source!=\"LegacyCRM\"]"
   ]
  },
  {
   "cell_type": "code",
   "execution_count": null,
   "id": "7c140374",
   "metadata": {},
   "outputs": [],
   "source": [
    "embeddings_filtered = model.encode(df_non_legacy['log_message'].tolist())\n"
   ]
  },
  {
   "cell_type": "markdown",
   "id": "5af27d05",
   "metadata": {},
   "source": [
    "X = embeddings_filtered\n",
    "y = df_non_legacy['target_label'].values"
   ]
  },
  {
   "cell_type": "code",
   "execution_count": null,
   "id": "e44b93c8",
   "metadata": {},
   "outputs": [],
   "source": [
    "from sklearn.model_selection import train_test_split\n",
    "from sklearn.linear_model import LogisticRegression\n",
    "from sklearn.metrics import accuracy_score\n",
    "from sklearn.metrics import classification_report\n",
    "\n",
    "X_train, X_test, y_train, y_test = train_test_split(X, y, test_size=0.3, random_state=42)\n",
    "clf = LogisticRegression(max_iter=1000)\n",
    "clf.fit(X_train, y_train)\n",
    "y_pred = clf.predict(X_test)\n",
    "report = classification_report(y_test, y_pred)\n",
    "print(report)"
   ]
  },
  {
   "cell_type": "code",
   "execution_count": null,
   "id": "2976678d",
   "metadata": {},
   "outputs": [],
   "source": [
    "import joblib\n",
    "joblib.dump(clf, '../models/log_classifier.joblib')"
   ]
  }
 ],
 "metadata": {
  "language_info": {
   "name": "python"
  }
 },
 "nbformat": 4,
 "nbformat_minor": 5
}
